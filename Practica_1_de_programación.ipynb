{
  "nbformat": 4,
  "nbformat_minor": 0,
  "metadata": {
    "colab": {
      "provenance": [],
      "include_colab_link": true
    },
    "kernelspec": {
      "name": "python3",
      "display_name": "Python 3"
    },
    "language_info": {
      "name": "python"
    }
  },
  "cells": [
    {
      "cell_type": "markdown",
      "metadata": {
        "id": "view-in-github",
        "colab_type": "text"
      },
      "source": [
        "<a href=\"https://colab.research.google.com/github/JuanCarlos2803/Programacion/blob/main/Practica_1_de_programaci%C3%B3n.ipynb\" target=\"_parent\"><img src=\"https://colab.research.google.com/assets/colab-badge.svg\" alt=\"Open In Colab\"/></a>"
      ]
    },
    {
      "cell_type": "code",
      "source": [
        "#Este programa lo que hace es evaluar una cadena de texto formada por\n",
        "#unicamente parentesis  pesar de que podria hacer un codigo mas eficiente,\n",
        "#utilice el algoritmo que utilizo para evaluar cierres de parentesis\n",
        "#La idea principal de mi prgrama es evaluar una cadena de texto y comprobar\n",
        "#que cumple con ciertos filtros y en caso de no hacerlo indicar en que parametro\n",
        "#o filtro se equivoco, e indicar que aciertos tuvo la cadena dde texto\n",
        "\n",
        "ALFABETO = [\"(\", \")\"]  #Este conjunto de elementos va a ser una constante"
      ],
      "metadata": {
        "id": "PUy3YsNfxyOi"
      },
      "execution_count": null,
      "outputs": []
    },
    {
      "cell_type": "code",
      "source": [
        "def unico_caracter(texto):\n",
        "    \"\"\"Está función lo que hace es evaluar  una estructuras de datos cuya longitud no pueda ser de uno, o como se define como unicidad de elemento\"\"\"\n",
        "    if  len(texto)==1:\n",
        "        print(\"¡Error!, unicidad de elemento invalida\")\n",
        "    else:\n",
        "        print(\"No existe unicidad\")"
      ],
      "metadata": {
        "id": "vtbdX-vy2p7t"
      },
      "execution_count": null,
      "outputs": []
    },
    {
      "cell_type": "code",
      "source": [
        "def primer_caracter(texto):\n",
        "    \"\"\"Esta función lo que hace es comprobar que el primer elemento de la estructura sea un elemento valido utilizando como parametro un elemento que no sea valido\"\"\"\n",
        "    elemento0 = texto[0]\n",
        "    caracter_invalido = \")\"\n",
        "    if elemento0 == caracter_invalido:\n",
        "        print(\"¡Error de sintaxis en el primer elemento!\")\n",
        "    else:\n",
        "        print(\"El primer elemento es apropiado\")"
      ],
      "metadata": {
        "id": "-QUYDdfo4DN9"
      },
      "execution_count": null,
      "outputs": []
    },
    {
      "cell_type": "code",
      "source": [
        "def ultimo_caracter(texto):\n",
        "    \"\"\"Está función evalua  el ultimo elemento de la estructura como valido utilizando un como parametro un elemento invalido\"\"\"\n",
        "    pila = []\n",
        "    for elemento in texto:\n",
        "        pila.append(elemento)\n",
        "        ultimo_elemento = pila[-1]\n",
        "    caracter_no_valido = \"(\"\n",
        "    if ultimo_elemento == caracter_no_valido:\n",
        "        print(\"¡Error de sintaxis en el ultimo elemento!\")\n",
        "    else:\n",
        "        print(\"El ultimo elemento es apropiado\")"
      ],
      "metadata": {
        "id": "-Ohrqx_S8Ej5"
      },
      "execution_count": null,
      "outputs": []
    },
    {
      "cell_type": "code",
      "source": [
        "def longitud(texto):\n",
        "    \"\"\"Esta función lo que hace es evaluar la longitud de una estructura de datos cuya longitud tenga que ser par\"\"\"\n",
        "    l = len(texto)\n",
        "    if l % 2 == 0:\n",
        "        print(\"La longitud es apropiada\")\n",
        "    else:\n",
        "        print(\"¡Error!, longitud invalida\")"
      ],
      "metadata": {
        "id": "-5xha3GV9ZLa"
      },
      "execution_count": null,
      "outputs": []
    },
    {
      "cell_type": "code",
      "source": [
        "def sintaxis(texto):\n",
        "    \"Esta función evalua la formación correcta de los parentesis en una cadena de texto\"\n",
        "    pila = []\n",
        "    for elemento in texto:\n",
        "        if elemento == \"(\":\n",
        "            pila.append(elemento)\n",
        "        elif elemento == \")\":\n",
        "            if len(pila) > 0:\n",
        "                pila.pop()\n",
        "            elif len(pila) == 0:\n",
        "                print(\"Error de sintaxis\")\n",
        "                break\n",
        "    else:\n",
        "        if len(pila) == 0:\n",
        "            print(\"Sintaxis correcta\")\n",
        "        else:\n",
        "            print(\"Error de sintaxis (paréntesis sin cerrar)\")"
      ],
      "metadata": {
        "id": "wuKCKiIa9oG6"
      },
      "execution_count": null,
      "outputs": []
    },
    {
      "cell_type": "code",
      "source": [
        "ALFABETO = [\"(\", \")\"]\n",
        "def alfa(texto):\n",
        "    \"\"\"Está va a ser la función principal que ejecute el programa, por lo tanto utiliza una funcion extra adicional que revisa que cada elemento en la cadena de texto pertenezca al alfabeto que estamos usando\"\"\"\n",
        "\n",
        "    bool = True\n",
        "    #Utilice una variable booleana para en caso de permanecer verdadera se siguiera ejecutando el programa\n",
        "    for elemento in texto:\n",
        "        #Itero en cada elemento de la cadena de texto\n",
        "        if elemento not in ALFABETO:\n",
        "            bool = False\n",
        "            #Si un elemento de la cadena de texto no esta en el alfabeto, el bool se vuelve falso\n",
        "    if bool:\n",
        "        print(\"Todos los elementos pertenecen al alfabeto\")\n",
        "        unico_caracter(texto)\n",
        "        #si el bool se conserva verdadero se indica el exito del primer filtro\n",
        "        #y se procede a ejecutar la siguiente función\n",
        "    else:\n",
        "        print(\"¡Error!, anomalias existentes en la cadena de texto\")\n",
        "        #Si el bool se vuelve falso entonces se indica una anomalia y se termina de ejecutar el programa\n",
        "def unico_caracter(texto):\n",
        "    \"\"\"Está función evalua que la longitud de la cadena de texto no sea 1\"\"\"\n",
        "    if  len(texto)==1:\n",
        "        print(\"¡Error!, unicidad de elementos invalida\")\n",
        "        #Si la longitud de la cadena es 1, entonces la cadena esta mal\n",
        "        #ya que debe de haber minimo 2 elementos que formen un parentesis\n",
        "        #Por lo tanto, la unicidad en la cadena de texto no es valida\n",
        "    else:\n",
        "        print(\"No existe unicidad\")\n",
        "        primer_caracter(texto)\n",
        "        #Si la longitud de la cadena es mayor a 1, entonces por el momento\n",
        "        #la cadena es correcta y supera este filtro\n",
        "        #Como no se cumple la condicion de unicidad, se procede a ejecutar la sigueinte función\n",
        "def primer_caracter(texto):\n",
        "    \"\"\"Esta función lo que hace es comprobar que el primer elemento sea una abertura, ya que de lo contrario entonces la cadena ya está mal\"\"\"\n",
        "    elemento0 = texto[0]\n",
        "    #Tomamos el elemento cuyo indice sea 0 en la cadena de texto\n",
        "    caracter_invalido = \")\"\n",
        "    #Le asignamos un valor a la variable caracter invalido\n",
        "    if elemento0 == caracter_invalido:\n",
        "        #Si el primer elemtno es igual al caracter invalido, entonces ya esta mal la cadena de texto\n",
        "        print(\"¡Error de sintaxis en el primer elemento!\")\n",
        "    else:\n",
        "        print(\"El primer elemento es apropiado\")\n",
        "        ultimo_caracter(texto)\n",
        "        #Si el primer elemento no es \")\", entonces es \"(\"\n",
        "        #por lo tanto en ese punto esta bien la cadena de texto\n",
        "        #se procede a evaluar el otro extremo de la cadena de texto con la siguiente función\n",
        "\n",
        "def ultimo_caracter(texto):\n",
        "    \"\"\"Está función evalua de forma analoga el otro extremo de la cadena de texto, en este caso, no puede haver abertura al final\"\"\"\n",
        "    pila = []\n",
        "    #Decidi convertir la cadena en una pila para asi poder acceder al ultimo elemento\n",
        "    #seguramente hay una forma mas eficiente, pero esta es la unica que conocia XD\n",
        "    for elemento in texto:\n",
        "        pila.append(elemento)\n",
        "        #Cada elemento de la cadena de texto lo añado a la pila\n",
        "        ultimo_elemento = pila[-1]\n",
        "        #Guardo el ultimo elemento de la pila en la variable ultimo_elemento\n",
        "    caracter_no_valido = \"(\"\n",
        "    #Le asigno un valor al caracter no valido\n",
        "    if ultimo_elemento == caracter_no_valido:\n",
        "        #Si el ultimo elemento es igual a una apertura, entonces ya esta mal la cadena de texto\n",
        "        print(\"¡Error de sintaxis en el ultimo elemento!\")\n",
        "    else:\n",
        "        print(\"El ultimo elemento es apropiado\")\n",
        "        longitud(texto)\n",
        "        #Si el ultimo elemnto es un cierre entonces de los extremos la cadena de texto es correcta\n",
        "        #Si es falso que sea apertura el ultimo elemento enonces se procede a evaluar la longitud\n",
        "\n",
        "def longitud(texto):\n",
        "    \"\"\"Esta función lo que hace es evaluar la longitud de la cadena como cirterio para saber si es correcta\"\"\"\n",
        "    l = len(texto)\n",
        "    #asigne una variable a la longitud para mayor comodida\n",
        "    #algo incesario pero se ve mas bonito el codigo\n",
        "    if l % 2 == 0:\n",
        "        #utilice la operacion modulo para expresar que si l es par entonces en modulo 2 tendria que ser 0\n",
        "        print(\"La longitud es apropiada\")\n",
        "        sintaxis(texto)\n",
        "        #si l en modulo 2 es 0, entonces la cadena es par y por lo tanto tiene los elementos\n",
        "        # necesarios para formar pares de parentesis\n",
        "        #se procede a evaluar la sintaxis de la cadena si es que la longitud es aporpiada\n",
        "    else:\n",
        "        print(\"¡Error!, longitud invalida\")\n",
        "        #si l es impar, entonces en modulo 2 es distinto de 0\n",
        "        # y por lo tanto sobra un elemento que podria ser un cierre o apertura\n",
        "\n",
        "def sintaxis(texto):\n",
        "    \"Esta función evalua la sintaxis general de la cadena de texto, evalua si por cada apertura hay un cierre\"\n",
        "    #El funcionamiento de esta función consiste de la siguienfe forma\n",
        "    # cada \"(\" se guarda en una pila, cuando se llegue a un \")\"\n",
        "    #entonces se eliminara un \"(\", indicando que ya se cerro un parentesis\n",
        "    # y asi hasta que la pila quede vacia porque significara\n",
        "    #que todos los parentesis se cerraron, en caso de que no\n",
        "    # quedo una abertura o cerradura sin su respectiva pareja\n",
        "    pila = []\n",
        "    #Defino una pila vacia donde ire fuardando todos los \"(\"\n",
        "    for elemento in texto:\n",
        "        #Itero en cada elemento de la cadena\n",
        "        if elemento == \"(\":\n",
        "            pila.append(elemento)\n",
        "            #Si el elemento es \"(\", lo voy a guardar en la pila utilizando la funcion append\n",
        "        elif elemento == \")\":\n",
        "            #Si el elemento no es \"(\" entonces es \")\"\n",
        "            # podria haberlo omitir la parte donde pido que el elemento sea igual a \")\"\n",
        "            #Pero este programa esta hecho bajo la filosofía\n",
        "            #que tiene que ser lo más cercano al \"algoritmo de evaluación humana\"\n",
        "            #Si eso incluye pasos \"inecesarios\", o partes que resultan redundantes en el codigo\n",
        "            if len(pila) > 0:\n",
        "                pila.pop()\n",
        "                #Si la pila tiene una longitu mayor a cero\n",
        "                #significa que minimo hay una abertura con la que puede haber un cierre\n",
        "            elif len(pila) == 0:\n",
        "                print(\"Error de sintaxis\")\n",
        "                #Si la longitud de la pila es 0, y el elemento es un \")\"\n",
        "                #entonces hay un cierre sin su respectiva apertura\n",
        "                #por lo tanto es incorrecta la sintaxis en ese momento\n",
        "                break\n",
        "            #Cuando se encuentra un error de sintaxis entonces se rompe el ciclo for\n",
        "            # ya que no tiene sentido seguir evaluando la cadena de texto.\n",
        "            #Una idea temprana que tuve fue que siguiera evaluando\n",
        "            #pero si había muchos elementos sin cierre entonces\n",
        "            #se imprimirian muchos \"Errir de sintaxis\"\n",
        "            #lo que esteticamente es feo e inecesario\n",
        "    else:\n",
        "        #Si el ciclo for no se rompio entonces  pasan los siguientes casos\n",
        "        if len(pila) == 0:\n",
        "            print(\"Sintaxis correcta\")\n",
        "            #si la longitud de la pila quedo igual a 0\n",
        "            #entonces para cada apertura hubo un cierre y por lo tanto la sintaxis fue correcta\n",
        "        else:\n",
        "            print(\"Error de sintaxis (paréntesis sin cerrar)\")\n",
        "             #Si la longitud de la pila fue diferente de 0\n",
        "            #entonces hubo mas aperturas que cierres y por lo tanto la sintaxis es invalida\n",
        "cadena_de_texto=input(\"Ingrese cadena de texto: \")\n",
        "if __name__== \"__main__\":\n",
        "    alfa(cadena_de_texto)\n",
        "\n"
      ],
      "metadata": {
        "colab": {
          "base_uri": "https://localhost:8080/"
        },
        "id": "AYYmFZMo-fwR",
        "outputId": "283472d8-5731-44c2-9d5b-e5ce2b385464"
      },
      "execution_count": 1,
      "outputs": [
        {
          "output_type": "stream",
          "name": "stdout",
          "text": [
            "Ingrese cadena de texto: (hola)\n",
            "¡Error!, anomalias existentes en la cadena de texto\n"
          ]
        }
      ]
    }
  ]
}